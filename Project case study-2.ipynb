{
 "cells": [
  {
   "cell_type": "code",
   "execution_count": 60,
   "metadata": {},
   "outputs": [
    {
     "data": {
      "image/png": "[encoded data removed]",
      "text/plain": [
       "<Figure size 432x288 with 1 Axes>"
      ]
     },
     "metadata": {
      "needs_background": "light"
     },
     "output_type": "display_data"
    }
   ],
   "source": [
    "#Question 1\n",
    "#Your Friend has developed the Product and he wants to establish the product startup and he is searching for a perfect location\n",
    "#where getting the investment has a high chance. But due to its financial restriction, he can choose only between three locations \n",
    "#Bangalore, Mumbai, and NCR. As a friend, you want to help your friend deciding the location. NCR include Gurgaon,\n",
    "#Noida and New Delhi.Find the location where the most number of funding is done. That means, find the location where startups \n",
    "#has received funding maximum number of times. Plot the bar graph between location and number of funding. Take city name \"Delhi\" \n",
    "#as \"New Delhi\". Check the case-sensitiveness of cities also. That means, at some place instead of \"Bangalore\", \"bangalore\" is \n",
    "#given. Take city name as \"Bangalore\". For few startups multiple locations are given, one Indian and one Foreign. Consider the \n",
    "#startup if any one of the city lies in given locations.\n",
    "\n",
    "import pandas as pd\n",
    "import matplotlib.pyplot as plt\n",
    "df=pd.read_csv('Dataset/startup_funding.csv')\n",
    "df.dropna(subset=['CityLocation'],inplace=True)\n",
    "df['CityLocation'].replace('Delhi','New Delhi',inplace=True)\n",
    "df['CityLocation'].replace('bangalore','Bangalore',inplace=True)\n",
    "df=df[(df['CityLocation']=='New Delhi')|(df['CityLocation']=='Gurgaon')|(df['CityLocation']=='Noida')|(df['CityLocation']=='Bangalore') |(df['CityLocation']=='Mumbai')]\n",
    "df=df['CityLocation'].value_counts()\n",
    "city = list(df.index.values)\n",
    "times = list(df.values)\n",
    "plt.bar(city,times)\n",
    "plt.show()"
   ]
  },
  {
   "cell_type": "code",
   "execution_count": null,
   "metadata": {},
   "outputs": [],
   "source": []
  },
  {
   "cell_type": "code",
   "execution_count": 56,
   "metadata": {},
   "outputs": [
    {
     "name": "stdout",
     "output_type": "stream",
     "text": [
      "Sequoia Capital   64\n",
      "Accel Partners   53\n",
      "Kalaari Capital   44\n",
      "SAIF Partners   41\n",
      "Indian Angel Network   40\n"
     ]
    }
   ],
   "source": [
    "#Question 2\n",
    "#Even after trying for so many times, your friend’s startup could not find the investment. So you decided to take this matter \n",
    "#in your hand and try to find the list of investors who probably can invest in your friend’s startup. Your list will increase\n",
    "#the chance of your friend startup getting some initial investment by contacting these investors. Find the top 5 investors who \n",
    "#have invested maximum number of times (consider repeat investments in one company also). In a startup, multiple investors might\n",
    "#have invested. So consider each investor for that startup. Ignore undisclosed investors.\n",
    "\n",
    "\n",
    "import pandas as pd\n",
    "\n",
    "df = pd.read_csv('Dataset/startup_funding.csv')\n",
    "df = df[['InvestorsName']]\n",
    "df.dropna(subset=['InvestorsName'],inplace=True)\n",
    "s_list=list(df['InvestorsName'])\n",
    "d={}\n",
    "for i in s_list:\n",
    "    key = i.split(',')\n",
    "    for j in range(len(key)):\n",
    "        d[key[j].strip()]=d.get(key[j].strip(),0)+1\n",
    "sort = sorted(d.items(),key = lambda x:x[1], reverse=True)\n",
    "for i in range(5):\n",
    "    print(sort[i][0],\" \",sort[i][1])\n",
    "    "
   ]
  },
  {
   "cell_type": "code",
   "execution_count": 57,
   "metadata": {},
   "outputs": [
    {
     "name": "stdout",
     "output_type": "stream",
     "text": [
      "Sequoia Capital\n",
      "Accel Partners\n",
      "Kalaari Capital\n",
      "Indian Angel Network\n",
      "Blume Ventures\n"
     ]
    }
   ],
   "source": [
    "#Question 3\n",
    "#After re-analysing the dataset you found out that some investors have invested in the same startup at different number of \n",
    "#funding rounds. So before finalising the previous list, you want to improvise it by finding the top 5 investors who have \n",
    "#invested in different number of startups. This list will be more helpful than your previous list in finding the investment\n",
    "#for your friend startup. Find the top 5 investors who have invested maximum number of times in different companies. That means,\n",
    "#if one investor has invested multiple times in one startup, count one for that company. There are many errors in startup names.\n",
    "#Ignore correcting all, just handle the important ones - Ola, Flipkart, Oyo and Paytm.\n",
    "\n",
    "import pandas as pd\n",
    "\n",
    "data = pd.read_csv(\"Dataset/startup_funding.csv\")\n",
    "df=data.copy()\n",
    "df['StartupName'].replace('Flipkart.com','Flipkart',inplace=True)\n",
    "df['StartupName'].replace('Ola Cabs','Ola',inplace=True)\n",
    "df['StartupName'].replace('Olacabs','Ola',inplace=True)\n",
    "df['StartupName'].replace('Oyo Rooms','Oyo',inplace=True)\n",
    "df['StartupName'].replace('Oyorooms','Oyo',inplace=True)\n",
    "df['StartupName'].replace('OyoRooms','Oyo',inplace=True)\n",
    "df['StartupName'].replace('OYO Rooms','Oyo',inplace=True)\n",
    "df['StartupName'].replace('Paytm Marketplace','Paytm',inplace=True)\n",
    "df['InvestorsName'].replace('Undisclosed investors','Undisclosed Investors',inplace=True)\n",
    "df['InvestorsName'].replace('undisclosed investors','Undisclosed Investors',inplace=True)\n",
    "df['InvestorsName'].replace('Undisclosed Investor','Undisclosed Investors',inplace=True)\n",
    "df['InvestorsName'].replace('Undisclosed','Undisclosed Investors',inplace=True)\n",
    "df['InvestorsName'].replace('Undisclosed investor','Undisclosed Investors',inplace=True)\n",
    "df['InvestorsName'].replace('Undisclosed Investors','',inplace=True)\n",
    "df['StartupName'].fillna('Unknown',inplace=True)\n",
    "df['InvestorsName'].fillna('Unknown',inplace=True)\n",
    "ds=df['StartupName']\n",
    "di=df['InvestorsName']\n",
    "d={}\n",
    "i=0\n",
    "for ele in di:\n",
    "    p=str(ele)\n",
    "    q=p.split(\",\")\n",
    "    for e in q:\n",
    "        e=e.strip()\n",
    "        if e in d:\n",
    "            d[e]+=[ds[i]]\n",
    "        else:\n",
    "            d[e]=[ds[i]]\n",
    "    i=i+1\n",
    "for ele in d:\n",
    "    d[ele]=len(set(d[ele]))\n",
    "investor = sorted(d.items(),key = lambda x:x[1], reverse=True)\n",
    "for i in range(1,6):\n",
    "    print(investor[i][0])"
   ]
  },
  {
   "cell_type": "code",
   "execution_count": 59,
   "metadata": {},
   "outputs": [
    {
     "name": "stdout",
     "output_type": "stream",
     "text": [
      "Kashyap Deorah\n",
      "Anand Sankeshwar\n",
      "Deepak Jain\n",
      "Sadashiva NT\n",
      "Arjun Mehta\n"
     ]
    }
   ],
   "source": [
    "# Question-4\n",
    "# Find the top 5 investors who have invested in a different number of startups and their \n",
    "#investment type is Crowdfunding or Seed Funding\n",
    "\n",
    "import pandas as pd\n",
    "import numpy as np\n",
    "data = pd.read_csv('Dataset/startup_funding.csv')\n",
    "df = data.copy()\n",
    "df = df[['StartupName','InvestorsName','InvestmentType']]\n",
    "df['StartupName'].replace('Flipkart.com','Flipkart',inplace=True)\n",
    "df['StartupName'].replace('Ola Cabs','Ola',inplace=True)\n",
    "df['StartupName'].replace('Olacabs','Ola',inplace=True)\n",
    "df['StartupName'].replace('Oyo Rooms','Oyo',inplace=True)\n",
    "df['StartupName'].replace('Oyorooms','Oyo',inplace=True)\n",
    "df['StartupName'].replace('OyoRooms','Oyo',inplace=True)\n",
    "df['StartupName'].replace('OYO Rooms','Oyo',inplace=True)\n",
    "df['StartupName'].replace('Paytm Marketplace','Paytm',inplace=True)\n",
    "df['InvestorsName'].replace('Undisclosed investors','Undisclosed Investors',inplace=True)\n",
    "df['InvestorsName'].replace('undisclosed investors','Undisclosed Investors',inplace=True)\n",
    "df['InvestorsName'].replace('Undisclosed Investor','Undisclosed Investors',inplace=True)\n",
    "df['InvestorsName'].replace('Undisclosed','Undisclosed Investors',inplace=True)\n",
    "df['InvestorsName'].replace('Undisclosed investor','Undisclosed Investors',inplace=True)\n",
    "df['InvestorsName'].replace('Undisclosed Investors','',inplace=True)\n",
    "df['InvestmentType'].replace('SeedFunding','Seed Funding', inplace=True)\n",
    "df['InvestmentType'].replace('PrivateEquity','Private Equity', inplace=True)\n",
    "df['InvestmentType'].replace('Crowd funding','Crowd Funding', inplace=True)\n",
    "df = df[(df['InvestmentType']=='Seed Funding') | (df['InvestmentType']=='Crowd Funding')]\n",
    "df.dropna(subset=['InvestmentType'],inplace=True)\n",
    "df.dropna(subset=['InvestorsName'],inplace=True)\n",
    "df.dropna(subset=['StartupName'],inplace=True)\n",
    "ds=np.array(df['StartupName'])\n",
    "di=df['InvestorsName']\n",
    "d={}\n",
    "i=0\n",
    "for nam in di:\n",
    "    p=str(nam)\n",
    "    q=p.split(\",\")\n",
    "    for e in q:\n",
    "        e=e.strip()\n",
    "        if e in d:\n",
    "            d[e]=[ds[i]]\n",
    "        else:\n",
    "            d[e]=[ds[i]]\n",
    "    i=i+1\n",
    "for ele in d:\n",
    "    d[ele]=len(set(d[ele]))\n",
    "investor = sorted(d.items(),key = lambda x:x[1], reverse=True)\n",
    "for i in range(5):\n",
    "    print(investor[i][0])"
   ]
  },
  {
   "cell_type": "code",
   "execution_count": 58,
   "metadata": {},
   "outputs": [
    {
     "name": "stdout",
     "output_type": "stream",
     "text": [
      "Kae Capital\n",
      "Triton Investment Advisors\n",
      "Infuse Ventures\n",
      "JLL\n",
      "Asset Management (Asia) Ltd\n"
     ]
    }
   ],
   "source": [
    "#Question-5\n",
    "# Question-4\n",
    "# Find the top 5 investors who have invested in a different number of startups and their \n",
    "#investment type is Crowdfunding or Seed Funding\n",
    "\n",
    "import pandas as pd\n",
    "import numpy as np\n",
    "data = pd.read_csv('Dataset/startup_funding.csv')\n",
    "df = data.copy()\n",
    "df = df[['StartupName','InvestorsName','InvestmentType']]\n",
    "df['StartupName'].replace('Flipkart.com','Flipkart',inplace=True)\n",
    "df['StartupName'].replace('Ola Cabs','Ola',inplace=True)\n",
    "df['StartupName'].replace('Olacabs','Ola',inplace=True)\n",
    "df['StartupName'].replace('Oyo Rooms','Oyo',inplace=True)\n",
    "df['StartupName'].replace('Oyorooms','Oyo',inplace=True)\n",
    "df['StartupName'].replace('OyoRooms','Oyo',inplace=True)\n",
    "df['StartupName'].replace('OYO Rooms','Oyo',inplace=True)\n",
    "df['StartupName'].replace('Paytm Marketplace','Paytm',inplace=True)\n",
    "df['InvestorsName'].replace('Undisclosed investors','Undisclosed Investors',inplace=True)\n",
    "df['InvestorsName'].replace('undisclosed investors','Undisclosed Investors',inplace=True)\n",
    "df['InvestorsName'].replace('Undisclosed Investor','Undisclosed Investors',inplace=True)\n",
    "df['InvestorsName'].replace('Undisclosed','Undisclosed Investors',inplace=True)\n",
    "df['InvestorsName'].replace('Undisclosed investor','Undisclosed Investors',inplace=True)\n",
    "df['InvestorsName'].replace('Undisclosed Investors','',inplace=True)\n",
    "df['InvestmentType'].replace('SeedFunding','Seed Funding', inplace=True)\n",
    "df['InvestmentType'].replace('PrivateEquity','Private Equity', inplace=True)\n",
    "df['InvestmentType'].replace('Crowd funding','Crowd Funding', inplace=True)\n",
    "df = df[df['InvestmentType']=='Private Equity']\n",
    "df.dropna(subset=['InvestmentType'],inplace=True)\n",
    "df.dropna(subset=['InvestorsName'],inplace=True)\n",
    "df.dropna(subset=['StartupName'],inplace=True)\n",
    "ds=np.array(df['StartupName'])\n",
    "di=df['InvestorsName']\n",
    "d={}\n",
    "i=0\n",
    "for nam in di:\n",
    "    p=str(nam)\n",
    "    q=p.split(\",\")\n",
    "    for e in q:\n",
    "        e=e.strip()\n",
    "        if e in d:\n",
    "            d[e]=[ds[i]]\n",
    "        else:\n",
    "            d[e]=[ds[i]]\n",
    "    i=i+1\n",
    "for ele in d:\n",
    "    d[ele]=len(set(d[ele]))\n",
    "investor = sorted(d.items(),key = lambda x:x[1], reverse=True)\n",
    "for i in range(5):\n",
    "    print(investor[i][0])"
   ]
  },
  {
   "cell_type": "code",
   "execution_count": null,
   "metadata": {},
   "outputs": [],
   "source": []
  }
 ],
 "metadata": {
  "kernelspec": {
   "display_name": "Python 3",
   "language": "python",
   "name": "python3"
  },
  "language_info": {
   "codemirror_mode": {
    "name": "ipython",
    "version": 3
   },
   "file_extension": ".py",
   "mimetype": "text/x-python",
   "name": "python",
   "nbconvert_exporter": "python",
   "pygments_lexer": "ipython3",
   "version": "3.7.4"
  }
 },
 "nbformat": 4,
 "nbformat_minor": 2
}
